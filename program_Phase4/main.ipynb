{
  "metadata": {
    "language_info": {
      "name": ""
    },
    "kernelspec": {
      "name": "python",
      "display_name": "Python (Pyodide)",
      "language": "python"
    }
  },
  "nbformat_minor": 4,
  "nbformat": 4,
  "cells": [
    {
      "cell_type": "code",
      "source": "import machine\nimport dht\nfrom microWebSrv import MicroWebSrv  \nimport json\nimport analogio\n\n# DHT22 sensor\ndht_sensor = dht.DHT22(machine.Pin(2))\n\n# MQ131 sensor \nmq = analogio.AnalogIn(machine.ADC(0))\n\n# MQ calibration values \nMQ_MIN = 9000\nMQ_MAX = 40000\n\ndef _httpHandlerDHTGet(_httpClient_, _httpResponse_):\n\n  dht_sensor.measure()\n  temp = dht_sensor.temperature()/10\n  humid = dht_sensor.humidity()/10\n\n  # Read MQ131\n  mq_raw = mq.value\n  \n  # Convert MQ value to percentage\n  mq_perc = (mq_raw - MQ_MIN) / (MQ_MAX - MQ_MIN) * 100\n  mq_perc = max(0, min(100, mq_perc))\n\n  data = {'air_quality': mq_perc,'temperature':temp,'humidity':humid}\n  \n  print(data)\n\n  # Return JSON response\n  _httpResponse_.WriteResponseOk(\n     headers = {'Cache-Control': 'no-cache'},\n     contentType = \"text/event-stream\",\n     contentCharset = \"UTF-8\",\n     content = 'data: {0}\\n\\n'.format(json.dumps(data))\n  )\n\nrouteHandlers = [('/dht','GET', _httpHandlerDHTGet)]\n\nsrv = MicroWebSrv(_routeHandlers_=routeHandlers,_webPath_='/www/')\nsrv.Start(_threaded_=False)",
      "metadata": {},
      "execution_count": null,
      "outputs": []
    }
  ]
}