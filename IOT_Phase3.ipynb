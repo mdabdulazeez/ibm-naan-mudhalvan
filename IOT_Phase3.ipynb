{
  "metadata": {
    "language_info": {
      "codemirror_mode": {
        "name": "python",
        "version": 3
      },
      "file_extension": ".py",
      "mimetype": "text/x-python",
      "name": "python",
      "nbconvert_exporter": "python",
      "pygments_lexer": "ipython3",
      "version": "3.8"
    },
    "kernelspec": {
      "name": "python",
      "display_name": "Python (Pyodide)",
      "language": "python"
    }
  },
  "nbformat_minor": 4,
  "nbformat": 4,
  "cells": [
    {
      "cell_type": "code",
      "source": "import machine\nimport dht\nimport urequests\nimport time\nimport bmp180\nfrom machine import ADC\nfrom machine import I2C\nfrom machine import Pin\nimport blynklib_mp as Blynk\n\n# Replace with your network credentials\nSSID = \"SSID\"\nPASSWORD = \"PASSWORD\"\n\n# Replace with your Blynk project's authentication token\nBLYNK_AUTH_TOKEN = \"rWbeEHAj5uxK14OBUSAiHq5eMUnHF0NE\"\n\n# Temperature thresholds\nTEMPERATURE_HIGH_THRESHOLD = 30  \nTEMPERATURE_LOW_THRESHOLD = 0   \n\n# Initialize the DHT22 sensor\ndht_sensor = dht.DHT22(machine.Pin(4))\n\n# Initialize the BMP180 sensor\ni2c = I2C(scl=Pin(22), sda=Pin(21))\nbmp = bmp180.BMP180(i2c)\n\n# Initialize the MQ135 gas sensor\nadc = ADC(Pin(35))\nadc.atten(ADC.ATTN_11DB)\nadc.width(ADC.WIDTH_9BIT)\n\n# Initialize Blynk\nblynk = Blynk.Blynk(BLYNK_AUTH_TOKEN)\n\nwhile True:\n    try:\n        # Read data from DHT22 sensor\n        dht_sensor.measure()\n        humidity = dht_sensor.humidity()\n        temperature_dht = dht_sensor.temperature()\n\n        # Read data from BMP180 sensor\n        temperature_bmp = bmp.temperature\n        pressure = bmp.pressure\n\n        # Read data from MQ135 gas sensor\n        gas_level = adc.read()\n\n        # Send data to Blynk server\n        blynk.virtual_write(1, humidity)\n        blynk.virtual_write(2, temperature_dht)\n        blynk.virtual_write(3, temperature_bmp)\n        blynk.virtual_write(4, pressure)\n\n        if temperature_dht > TEMPERATURE_HIGH_THRESHOLD:\n            # Raise an alert for high temperature\n            blynk.notify(\"High Temperature Alert!\")\n\n        if temperature_dht < TEMPERATURE_LOW_THRESHOLD:\n            # Raise an alert for low temperature\n            blynk.notify(\"Low Temperature Alert!\")\n\n        if gas_level > threshold_value:\n            # Raise an alert for high gas levels\n            blynk.notify(\"High Gas Levels Detected!\")\n\n        time.sleep(600)  # Send data every 10 minutes\n    except Exception as e:\n        print(\"Error:\", e)\n        time.sleep(60)\n",
      "metadata": {},
      "execution_count": null,
      "outputs": []
    }
  ]
}